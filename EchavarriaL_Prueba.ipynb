{
  "nbformat": 4,
  "nbformat_minor": 0,
  "metadata": {
    "colab": {
      "provenance": [],
      "authorship_tag": "ABX9TyNV9lwm3EgSqDWOUbV0VNrI",
      "include_colab_link": true
    },
    "kernelspec": {
      "name": "python3",
      "display_name": "Python 3"
    },
    "language_info": {
      "name": "python"
    }
  },
  "cells": [
    {
      "cell_type": "markdown",
      "metadata": {
        "id": "view-in-github",
        "colab_type": "text"
      },
      "source": [
        "<a href=\"https://colab.research.google.com/github/lechavarriac/PruebaIO1LEC/blob/main/EchavarriaL_Prueba.ipynb\" target=\"_parent\"><img src=\"https://colab.research.google.com/assets/colab-badge.svg\" alt=\"Open In Colab\"/></a>"
      ]
    },
    {
      "cell_type": "markdown",
      "source": [
        "## Mi primera vez\n",
        "\n",
        "\n",
        "\n"
      ],
      "metadata": {
        "id": "2q_VTcFKeoqV"
      }
    },
    {
      "cell_type": "markdown",
      "source": [
        "Esto es un subtitulo"
      ],
      "metadata": {
        "id": "dsZhR-hdfy2F"
      }
    },
    {
      "cell_type": "code",
      "execution_count": 1,
      "metadata": {
        "colab": {
          "base_uri": "https://localhost:8080/"
        },
        "id": "u01XlOCGdgWm",
        "outputId": "9e2b169b-0dbb-4e4f-bee0-92be3a8f0d17"
      },
      "outputs": [
        {
          "output_type": "stream",
          "name": "stdout",
          "text": [
            "hola mundo\n"
          ]
        }
      ],
      "source": [
        "print(\"buenos dias mundo\")"
      ]
    },
    {
      "cell_type": "markdown",
      "source": [
        "# Segundo ejercicio"
      ],
      "metadata": {
        "id": "Y385cwp9f5vt"
      }
    },
    {
      "cell_type": "code",
      "source": [
        "print(\"buenos dias, Leonardo\")"
      ],
      "metadata": {
        "colab": {
          "base_uri": "https://localhost:8080/"
        },
        "id": "Cd2NewCKfSUs",
        "outputId": "3976149f-3427-4f14-c9b7-00b1a04a49d3"
      },
      "execution_count": 2,
      "outputs": [
        {
          "output_type": "stream",
          "name": "stdout",
          "text": [
            "Hola, Leonardo\n"
          ]
        }
      ]
    }
  ]
}